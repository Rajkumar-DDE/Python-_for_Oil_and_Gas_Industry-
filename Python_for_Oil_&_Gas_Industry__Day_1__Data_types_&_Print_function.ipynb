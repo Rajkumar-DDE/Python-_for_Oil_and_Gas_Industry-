{
  "nbformat": 4,
  "nbformat_minor": 0,
  "metadata": {
    "colab": {
      "provenance": [],
      "authorship_tag": "ABX9TyO86nvLFvSNUTmaTTxnwAZ3",
      "include_colab_link": true
    },
    "kernelspec": {
      "name": "python3",
      "display_name": "Python 3"
    },
    "language_info": {
      "name": "python"
    }
  },
  "cells": [
    {
      "cell_type": "markdown",
      "metadata": {
        "id": "view-in-github",
        "colab_type": "text"
      },
      "source": [
        "<a href=\"https://colab.research.google.com/github/Rajkumar-DDE/Python-_for_Oil_and_Gas_Industry-/blob/main/Python_for_Oil_%26_Gas_Industry__Day_1__Data_types_%26_Print_function.ipynb\" target=\"_parent\"><img src=\"https://colab.research.google.com/assets/colab-badge.svg\" alt=\"Open In Colab\"/></a>"
      ]
    },
    {
      "cell_type": "markdown",
      "source": [
        "Data Types"
      ],
      "metadata": {
        "id": "YpSa86TbYEv5"
      }
    },
    {
      "cell_type": "markdown",
      "source": [
        "\n",
        "* integers\n",
        "* floats\n",
        "* complex numbers\n",
        "* booleans\n",
        "* strings\n",
        "\n",
        "\n",
        "\n"
      ],
      "metadata": {
        "id": "QQ4FlYy6Y1cC"
      }
    },
    {
      "cell_type": "markdown",
      "source": [
        "# integers"
      ],
      "metadata": {
        "id": "rlBUwmEtZg7j"
      }
    },
    {
      "cell_type": "markdown",
      "source": [
        "An integer in Python is a number \"without a decimal point\"\n",
        "\n",
        "* Posotive (10)\n",
        "* Negative (-5)\n",
        "* Zero     (0)\n",
        "\n"
      ],
      "metadata": {
        "id": "Yis7Hdw-Z6Q6"
      }
    },
    {
      "cell_type": "code",
      "source": [
        "print(10)"
      ],
      "metadata": {
        "colab": {
          "base_uri": "https://localhost:8080/"
        },
        "id": "4QrqLLrxdGiS",
        "outputId": "ac658ae4-b9eb-4075-96c7-e69d53114ee1"
      },
      "execution_count": null,
      "outputs": [
        {
          "output_type": "stream",
          "name": "stdout",
          "text": [
            "10\n"
          ]
        }
      ]
    },
    {
      "cell_type": "code",
      "source": [
        "print(-5)"
      ],
      "metadata": {
        "colab": {
          "base_uri": "https://localhost:8080/"
        },
        "id": "ti6uk8PbdJ8N",
        "outputId": "52502e51-9a9d-4fe0-8ebe-9566deb830ea"
      },
      "execution_count": null,
      "outputs": [
        {
          "output_type": "stream",
          "name": "stdout",
          "text": [
            "-5\n"
          ]
        }
      ]
    },
    {
      "cell_type": "code",
      "source": [
        "print(0)"
      ],
      "metadata": {
        "colab": {
          "base_uri": "https://localhost:8080/"
        },
        "id": "-5bRVCtadN83",
        "outputId": "efaeb55e-4a3e-4b83-cd8b-d532f31f61bd"
      },
      "execution_count": null,
      "outputs": [
        {
          "output_type": "stream",
          "name": "stdout",
          "text": [
            "0\n"
          ]
        }
      ]
    },
    {
      "cell_type": "markdown",
      "source": [
        "You can use the \"type()\" function to check the data type."
      ],
      "metadata": {
        "id": "diQIeOtFd6du"
      }
    },
    {
      "cell_type": "code",
      "source": [
        "type(10)"
      ],
      "metadata": {
        "colab": {
          "base_uri": "https://localhost:8080/"
        },
        "id": "2N4107Pjd_t1",
        "outputId": "eec80430-91ee-4cda-d1fa-c4886221bf80"
      },
      "execution_count": null,
      "outputs": [
        {
          "output_type": "execute_result",
          "data": {
            "text/plain": [
              "int"
            ]
          },
          "metadata": {},
          "execution_count": 4
        }
      ]
    },
    {
      "cell_type": "code",
      "source": [
        "type(-5)"
      ],
      "metadata": {
        "colab": {
          "base_uri": "https://localhost:8080/"
        },
        "id": "QOl1uJIPeCSw",
        "outputId": "fa4000cb-80ca-4c95-f196-626913161aa2"
      },
      "execution_count": null,
      "outputs": [
        {
          "output_type": "execute_result",
          "data": {
            "text/plain": [
              "int"
            ]
          },
          "metadata": {},
          "execution_count": 5
        }
      ]
    },
    {
      "cell_type": "code",
      "source": [
        "type(0)"
      ],
      "metadata": {
        "colab": {
          "base_uri": "https://localhost:8080/"
        },
        "id": "zpms8or1eGqt",
        "outputId": "b2bd8c99-a42c-4f5b-8513-e7c710a743e8"
      },
      "execution_count": null,
      "outputs": [
        {
          "output_type": "execute_result",
          "data": {
            "text/plain": [
              "int"
            ]
          },
          "metadata": {},
          "execution_count": 6
        }
      ]
    },
    {
      "cell_type": "markdown",
      "source": [
        " Integer Operations:\n",
        "\n",
        "You can perform all basic arithmetic operations on integers\n",
        "\n",
        "1. Addition         +\n",
        "2. Subtraction      -\n",
        "3. Multiplication  *\n",
        "4. Division (float)  /\n",
        "5. Floor Division  //\n",
        "6. Modulus (remainder)  %\n",
        "7. Exponentiation  **\n",
        "\n",
        "\n",
        "\n",
        "\n"
      ],
      "metadata": {
        "id": "Hpn-51HFeRWm"
      }
    },
    {
      "cell_type": "markdown",
      "source": [
        "# floats"
      ],
      "metadata": {
        "id": "17XypI6phQvG"
      }
    },
    {
      "cell_type": "markdown",
      "source": [
        "A float (short for \"floating-point number\") is a number that contains a decimal point or is expressed in exponential (scientific) notation.\n",
        "\n",
        "* Posotive  (3.6)\n",
        "* Negative  (-10.7)\n",
        "* Zero     (0.5)\n",
        "\n",
        "\n"
      ],
      "metadata": {
        "id": "gcsOodoIhnxU"
      }
    },
    {
      "cell_type": "code",
      "source": [
        "print(3.6)"
      ],
      "metadata": {
        "colab": {
          "base_uri": "https://localhost:8080/"
        },
        "id": "o2JXhOO-iILT",
        "outputId": "0990b646-3070-415a-d733-edb92d581dd1"
      },
      "execution_count": null,
      "outputs": [
        {
          "output_type": "stream",
          "name": "stdout",
          "text": [
            "3.6\n"
          ]
        }
      ]
    },
    {
      "cell_type": "code",
      "source": [
        "print(-10.7)"
      ],
      "metadata": {
        "colab": {
          "base_uri": "https://localhost:8080/"
        },
        "id": "axmeiQepiUfH",
        "outputId": "5a368f1c-35c8-40dd-aaa8-8f252fbc06f8"
      },
      "execution_count": null,
      "outputs": [
        {
          "output_type": "stream",
          "name": "stdout",
          "text": [
            "-10.7\n"
          ]
        }
      ]
    },
    {
      "cell_type": "code",
      "source": [
        "print(0.5)"
      ],
      "metadata": {
        "colab": {
          "base_uri": "https://localhost:8080/"
        },
        "id": "ecxvb3tViaIx",
        "outputId": "4f1e5f93-1615-47be-b0a4-5227de64a658"
      },
      "execution_count": null,
      "outputs": [
        {
          "output_type": "stream",
          "name": "stdout",
          "text": [
            "0.5\n"
          ]
        }
      ]
    },
    {
      "cell_type": "markdown",
      "source": [
        "You can use the \"type()\" function to check the data type."
      ],
      "metadata": {
        "id": "yNS4n5gDindX"
      }
    },
    {
      "cell_type": "code",
      "source": [
        "\n",
        "type(3.6)"
      ],
      "metadata": {
        "colab": {
          "base_uri": "https://localhost:8080/"
        },
        "id": "2pDKb3B-ipRT",
        "outputId": "443eb14f-5295-419d-d04c-e4064042cb82"
      },
      "execution_count": null,
      "outputs": [
        {
          "output_type": "execute_result",
          "data": {
            "text/plain": [
              "float"
            ]
          },
          "metadata": {},
          "execution_count": 10
        }
      ]
    },
    {
      "cell_type": "code",
      "source": [
        "type(-10.7)"
      ],
      "metadata": {
        "colab": {
          "base_uri": "https://localhost:8080/"
        },
        "id": "0pfAt8hrissd",
        "outputId": "b71be5b0-587e-47c1-b27e-30ffdd8194cf"
      },
      "execution_count": null,
      "outputs": [
        {
          "output_type": "execute_result",
          "data": {
            "text/plain": [
              "float"
            ]
          },
          "metadata": {},
          "execution_count": 11
        }
      ]
    },
    {
      "cell_type": "code",
      "source": [
        "type(0.5)"
      ],
      "metadata": {
        "colab": {
          "base_uri": "https://localhost:8080/"
        },
        "id": "eBJZB_IvixmE",
        "outputId": "503137d1-5336-480f-ea1d-799a4bef2df3"
      },
      "execution_count": null,
      "outputs": [
        {
          "output_type": "execute_result",
          "data": {
            "text/plain": [
              "float"
            ]
          },
          "metadata": {},
          "execution_count": 12
        }
      ]
    },
    {
      "cell_type": "markdown",
      "source": [
        "# complex numbers"
      ],
      "metadata": {
        "id": "r7UXupo7kjM8"
      }
    },
    {
      "cell_type": "markdown",
      "source": [
        "complex numbers are a built-in numeric data type used to represent numbers with\"both real and imaginary parts\".\n",
        "\n",
        "A complex number is of the form:\n",
        "\n",
        "# z= a+bj\n",
        "\n",
        "wherw,\n",
        "* z = complex number\n",
        "* a = real part\n",
        "* b = imaginary part\n",
        "* j =  imaginary unit (√-1), written as j in Python (not i like in math)\n",
        "\n"
      ],
      "metadata": {
        "id": "i0wnKlbNkrP7"
      }
    },
    {
      "cell_type": "code",
      "source": [
        "print(2+3j)"
      ],
      "metadata": {
        "colab": {
          "base_uri": "https://localhost:8080/"
        },
        "id": "U6ys0ZhYlvbc",
        "outputId": "bbf69731-d34f-40c7-cefa-e3931d3857e3"
      },
      "execution_count": null,
      "outputs": [
        {
          "output_type": "stream",
          "name": "stdout",
          "text": [
            "(2+3j)\n"
          ]
        }
      ]
    },
    {
      "cell_type": "markdown",
      "source": [
        "You can use the \"type()\" function to check the data type."
      ],
      "metadata": {
        "id": "qI-iWz5UmKiD"
      }
    },
    {
      "cell_type": "code",
      "source": [
        "type(2+7j)"
      ],
      "metadata": {
        "colab": {
          "base_uri": "https://localhost:8080/"
        },
        "id": "p8OYBIhMmQvj",
        "outputId": "ec33e977-a342-4663-a973-2a7cb72de80e"
      },
      "execution_count": null,
      "outputs": [
        {
          "output_type": "execute_result",
          "data": {
            "text/plain": [
              "complex"
            ]
          },
          "metadata": {},
          "execution_count": 16
        }
      ]
    },
    {
      "cell_type": "markdown",
      "source": [
        "# booleans"
      ],
      "metadata": {
        "id": "gaASwM6emVsZ"
      }
    },
    {
      "cell_type": "markdown",
      "source": [
        "Booleans are a fundamental data type used to represent truth values — either True or False. They are used extensively in decision-making (like if statements), loops, and logical operations.\n",
        "\n",
        "** A Boolean represents one of two values **\n",
        "\n",
        "* True (Yes, condition holds)\n",
        "* False (No, condition does not hold)\n",
        "\n",
        "\n",
        "\n",
        "\n"
      ],
      "metadata": {
        "id": "OJxLbKGpolVL"
      }
    },
    {
      "cell_type": "code",
      "source": [
        "# Note:\n",
        "# True and False are not strings — they are special keywords in Python. Their type is bool.\n",
        "# a = True\n",
        "# b= False"
      ],
      "metadata": {
        "id": "0wZjM9iZpUeK"
      },
      "execution_count": null,
      "outputs": []
    },
    {
      "cell_type": "code",
      "source": [
        "print(True)"
      ],
      "metadata": {
        "colab": {
          "base_uri": "https://localhost:8080/"
        },
        "id": "IhqPH8yJpoTb",
        "outputId": "1ade00d4-d697-4555-8cf5-6c9832806642"
      },
      "execution_count": null,
      "outputs": [
        {
          "output_type": "stream",
          "name": "stdout",
          "text": [
            "True\n"
          ]
        }
      ]
    },
    {
      "cell_type": "code",
      "source": [
        "print(False)"
      ],
      "metadata": {
        "colab": {
          "base_uri": "https://localhost:8080/"
        },
        "id": "gAnMCW-zps5_",
        "outputId": "48a92dfd-a162-49b3-843b-62cb2e552932"
      },
      "execution_count": null,
      "outputs": [
        {
          "output_type": "stream",
          "name": "stdout",
          "text": [
            "False\n"
          ]
        }
      ]
    },
    {
      "cell_type": "markdown",
      "source": [
        "You can use the \"type()\" function to check the data type."
      ],
      "metadata": {
        "id": "cn8e5Cx_pyyH"
      }
    },
    {
      "cell_type": "code",
      "source": [
        "type(True)"
      ],
      "metadata": {
        "colab": {
          "base_uri": "https://localhost:8080/"
        },
        "id": "8BTw3NtZp3pO",
        "outputId": "d68c91aa-7835-4724-b995-0d244d4a129a"
      },
      "execution_count": null,
      "outputs": [
        {
          "output_type": "execute_result",
          "data": {
            "text/plain": [
              "bool"
            ]
          },
          "metadata": {},
          "execution_count": 21
        }
      ]
    },
    {
      "cell_type": "code",
      "source": [
        "type(False)"
      ],
      "metadata": {
        "colab": {
          "base_uri": "https://localhost:8080/"
        },
        "id": "Jx32gEGUp6Dv",
        "outputId": "3d4b440e-75e8-4969-93f4-a96ae45d3800"
      },
      "execution_count": null,
      "outputs": [
        {
          "output_type": "execute_result",
          "data": {
            "text/plain": [
              "bool"
            ]
          },
          "metadata": {},
          "execution_count": 23
        }
      ]
    },
    {
      "cell_type": "markdown",
      "source": [
        "# strings"
      ],
      "metadata": {
        "id": "T4zREOhlq2-x"
      }
    },
    {
      "cell_type": "markdown",
      "source": [
        "A string is a collection of characters enclosed within single ('), double (\"), or triple quotes (''' or \"\"\").\n",
        "\n",
        "* A = 'Hello'\n",
        "* B = \"Kumar\"\n",
        "* c = ''' Hello Kumar '''\n",
        "* D = \"\"\" Hello This is Kumar\"\"\"\n",
        "\n",
        "\n",
        "\n"
      ],
      "metadata": {
        "id": "475R6nJurDAq"
      }
    },
    {
      "cell_type": "code",
      "source": [
        "print('10')"
      ],
      "metadata": {
        "colab": {
          "base_uri": "https://localhost:8080/"
        },
        "id": "IK7lO7Lxq8eE",
        "outputId": "a6516a10-1ac7-4bb5-8b82-83dcba3f03d0"
      },
      "execution_count": null,
      "outputs": [
        {
          "output_type": "stream",
          "name": "stdout",
          "text": [
            "10\n"
          ]
        }
      ]
    },
    {
      "cell_type": "code",
      "source": [
        "print(\"3.0\")\n",
        "print('2=5j')\n",
        "print(\"True\")\n",
        "print(\"\"\"kumar\"\"\")"
      ],
      "metadata": {
        "colab": {
          "base_uri": "https://localhost:8080/"
        },
        "id": "Phw6vQOTryb0",
        "outputId": "1ba5ab26-d5f7-4205-fc14-b50dfd3e9b89"
      },
      "execution_count": null,
      "outputs": [
        {
          "output_type": "stream",
          "name": "stdout",
          "text": [
            "3.0\n",
            "2=5j\n",
            "True\n",
            "kumar\n"
          ]
        }
      ]
    },
    {
      "cell_type": "markdown",
      "source": [
        "You can use the \"type()\" function to check the data type."
      ],
      "metadata": {
        "id": "TmqyenxesfOQ"
      }
    },
    {
      "cell_type": "code",
      "source": [
        "type(\"3.0\")\n",
        "type('2=5j')\n",
        "type(\"True\")\n",
        "type(\"\"\"kumar\"\"\")"
      ],
      "metadata": {
        "colab": {
          "base_uri": "https://localhost:8080/"
        },
        "id": "PffxR6UZsUIH",
        "outputId": "d7a4ee9f-23bd-4cfd-ffce-c6212e893e5a"
      },
      "execution_count": null,
      "outputs": [
        {
          "output_type": "execute_result",
          "data": {
            "text/plain": [
              "str"
            ]
          },
          "metadata": {},
          "execution_count": 26
        }
      ]
    }
  ]
}