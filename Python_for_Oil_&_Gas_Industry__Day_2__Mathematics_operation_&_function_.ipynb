{
  "nbformat": 4,
  "nbformat_minor": 0,
  "metadata": {
    "colab": {
      "provenance": [],
      "authorship_tag": "ABX9TyOpXIeSTLMezTGYIrEME8ZL",
      "include_colab_link": true
    },
    "kernelspec": {
      "name": "python3",
      "display_name": "Python 3"
    },
    "language_info": {
      "name": "python"
    }
  },
  "cells": [
    {
      "cell_type": "markdown",
      "metadata": {
        "id": "view-in-github",
        "colab_type": "text"
      },
      "source": [
        "<a href=\"https://colab.research.google.com/github/Rajkumar-DDE/Python-_for_Oil_and_Gas_Industry-/blob/main/Python_for_Oil_%26_Gas_Industry__Day_2__Mathematics_operation_%26_function_.ipynb\" target=\"_parent\"><img src=\"https://colab.research.google.com/assets/colab-badge.svg\" alt=\"Open In Colab\"/></a>"
      ]
    },
    {
      "cell_type": "markdown",
      "source": [
        "**MATHEMATICS OPERATION**\n",
        "\n"
      ],
      "metadata": {
        "id": "uIDyG-8Qa8SQ"
      }
    },
    {
      "cell_type": "markdown",
      "source": [
        "\n",
        "\n",
        "1.  Addition (+)\n",
        "1.  Subtraction (-)\n",
        "2.  Division (/)\n",
        "1.  Float Division (/)\n",
        "2.  Integer Division (//)\n",
        "2.  Multiplication (*)\n",
        "1.  Exponent (**)\n",
        "2.  Round (**,3)\n",
        "1.  Modulo (%)\n",
        "\n",
        "\n",
        "\n",
        "\n",
        "\n",
        "\n",
        "\n",
        "\n"
      ],
      "metadata": {
        "id": "Ud6RPLmMbPFz"
      }
    },
    {
      "cell_type": "markdown",
      "source": [
        "# ADDITION (+)"
      ],
      "metadata": {
        "id": "Gx08iBARdMbC"
      }
    },
    {
      "cell_type": "code",
      "source": [
        "print(12+15)"
      ],
      "metadata": {
        "colab": {
          "base_uri": "https://localhost:8080/"
        },
        "id": "eQ3VgP6fdX3X",
        "outputId": "6bfb69d2-33b1-4797-a9b6-961d0014531c"
      },
      "execution_count": 1,
      "outputs": [
        {
          "output_type": "stream",
          "name": "stdout",
          "text": [
            "27\n"
          ]
        }
      ]
    },
    {
      "cell_type": "code",
      "source": [
        "print(546+789)"
      ],
      "metadata": {
        "colab": {
          "base_uri": "https://localhost:8080/"
        },
        "id": "Ts1L4YMadeUh",
        "outputId": "5245e4c7-2fdd-4a67-fd89-f1e1a0e9f1fe"
      },
      "execution_count": 2,
      "outputs": [
        {
          "output_type": "stream",
          "name": "stdout",
          "text": [
            "1335\n"
          ]
        }
      ]
    },
    {
      "cell_type": "markdown",
      "source": [
        "# SUBTRACTION (-)"
      ],
      "metadata": {
        "id": "1LWj68zidoKt"
      }
    },
    {
      "cell_type": "code",
      "source": [
        "print(43-78)"
      ],
      "metadata": {
        "colab": {
          "base_uri": "https://localhost:8080/"
        },
        "id": "jcoh8tIhd1Iz",
        "outputId": "e0704cf8-a9b8-45a5-ba4e-a995762990a3"
      },
      "execution_count": 3,
      "outputs": [
        {
          "output_type": "stream",
          "name": "stdout",
          "text": [
            "-35\n"
          ]
        }
      ]
    },
    {
      "cell_type": "code",
      "source": [
        "print(55-23)"
      ],
      "metadata": {
        "colab": {
          "base_uri": "https://localhost:8080/"
        },
        "id": "mRG9HOZOd7ff",
        "outputId": "f619883f-564e-4692-d61d-61f3b2067d83"
      },
      "execution_count": 4,
      "outputs": [
        {
          "output_type": "stream",
          "name": "stdout",
          "text": [
            "32\n"
          ]
        }
      ]
    },
    {
      "cell_type": "markdown",
      "source": [
        "# DIVISION (/)\n",
        "\n",
        "*  FLOAT DIVISION (/)\n",
        "*  INTEGER DIVISION (//)\n",
        "\n"
      ],
      "metadata": {
        "id": "_eLqB_5zeDaj"
      }
    },
    {
      "cell_type": "code",
      "source": [
        "print(245/5)"
      ],
      "metadata": {
        "colab": {
          "base_uri": "https://localhost:8080/"
        },
        "id": "mzeUruOmebVl",
        "outputId": "aa28f401-87fe-4055-b96f-9924cd505bee"
      },
      "execution_count": 5,
      "outputs": [
        {
          "output_type": "stream",
          "name": "stdout",
          "text": [
            "49.0\n"
          ]
        }
      ]
    },
    {
      "cell_type": "code",
      "source": [
        "print(245//5)"
      ],
      "metadata": {
        "colab": {
          "base_uri": "https://localhost:8080/"
        },
        "id": "dqr2ECcTeg6O",
        "outputId": "54cd1e0f-e744-4424-853f-74af52aa17c0"
      },
      "execution_count": 6,
      "outputs": [
        {
          "output_type": "stream",
          "name": "stdout",
          "text": [
            "49\n"
          ]
        }
      ]
    },
    {
      "cell_type": "code",
      "source": [
        "# Float division give us \"Decimal valve\", Integer division not give us \"decimal valve\""
      ],
      "metadata": {
        "id": "YJWRwtpPepKr"
      },
      "execution_count": null,
      "outputs": []
    },
    {
      "cell_type": "markdown",
      "source": [
        "# MULTIPLICATION (*)\n",
        "\n",
        "1.  EXPONENT (**)\n",
        "2.  ROUND (**,4)  \n",
        "\n"
      ],
      "metadata": {
        "id": "_FcP52SFfOzk"
      }
    },
    {
      "cell_type": "code",
      "source": [
        "print(45*4)"
      ],
      "metadata": {
        "colab": {
          "base_uri": "https://localhost:8080/"
        },
        "id": "nl1034nhfr4y",
        "outputId": "6274d7a2-5804-4ef1-e681-c47af79c9195"
      },
      "execution_count": 7,
      "outputs": [
        {
          "output_type": "stream",
          "name": "stdout",
          "text": [
            "180\n"
          ]
        }
      ]
    },
    {
      "cell_type": "code",
      "source": [
        "print(145**4)"
      ],
      "metadata": {
        "colab": {
          "base_uri": "https://localhost:8080/"
        },
        "id": "O4gP2PFRfw--",
        "outputId": "8db9a3ac-7ecb-4e59-88b9-e65f688a486c"
      },
      "execution_count": 8,
      "outputs": [
        {
          "output_type": "stream",
          "name": "stdout",
          "text": [
            "442050625\n"
          ]
        }
      ]
    },
    {
      "cell_type": "code",
      "source": [
        "print(245*9)"
      ],
      "metadata": {
        "colab": {
          "base_uri": "https://localhost:8080/"
        },
        "id": "q_5W5nbHf2C-",
        "outputId": "43427b7b-9c3e-4054-c553-199e04eade17"
      },
      "execution_count": 9,
      "outputs": [
        {
          "output_type": "stream",
          "name": "stdout",
          "text": [
            "2205\n"
          ]
        }
      ]
    },
    {
      "cell_type": "code",
      "source": [
        "print(245**9)"
      ],
      "metadata": {
        "colab": {
          "base_uri": "https://localhost:8080/"
        },
        "id": "O2ANIXNvgByu",
        "outputId": "ad331fc2-4daf-4f69-97e8-f60f15b7f8ff"
      },
      "execution_count": 10,
      "outputs": [
        {
          "output_type": "stream",
          "name": "stdout",
          "text": [
            "3180495308418845703125\n"
          ]
        }
      ]
    },
    {
      "cell_type": "code",
      "source": [
        "round(245**9,3)"
      ],
      "metadata": {
        "colab": {
          "base_uri": "https://localhost:8080/"
        },
        "id": "NLONeeUtgFb1",
        "outputId": "4a6d3db2-ace8-4d12-a7f7-ca67950e89d8"
      },
      "execution_count": 15,
      "outputs": [
        {
          "output_type": "execute_result",
          "data": {
            "text/plain": [
              "3180495308418845703125"
            ]
          },
          "metadata": {},
          "execution_count": 15
        }
      ]
    },
    {
      "cell_type": "code",
      "source": [
        "print(245//9)"
      ],
      "metadata": {
        "colab": {
          "base_uri": "https://localhost:8080/"
        },
        "id": "nNDL9pGQgL8K",
        "outputId": "9152e130-98c4-46a7-c938-f3010672aca0"
      },
      "execution_count": 12,
      "outputs": [
        {
          "output_type": "stream",
          "name": "stdout",
          "text": [
            "27\n"
          ]
        }
      ]
    },
    {
      "cell_type": "code",
      "source": [
        "print(245/9)"
      ],
      "metadata": {
        "colab": {
          "base_uri": "https://localhost:8080/"
        },
        "id": "AG5D5GgbgUD9",
        "outputId": "ac002244-4512-405e-e8c3-8a39e539449a"
      },
      "execution_count": 13,
      "outputs": [
        {
          "output_type": "stream",
          "name": "stdout",
          "text": [
            "27.22222222222222\n"
          ]
        }
      ]
    },
    {
      "cell_type": "code",
      "source": [
        "round(245/9,3)"
      ],
      "metadata": {
        "colab": {
          "base_uri": "https://localhost:8080/"
        },
        "id": "Mc6O0bv3gWU7",
        "outputId": "0bedeb5c-5440-4c4c-db67-13e1d9759dbf"
      },
      "execution_count": 14,
      "outputs": [
        {
          "output_type": "execute_result",
          "data": {
            "text/plain": [
              "27.222"
            ]
          },
          "metadata": {},
          "execution_count": 14
        }
      ]
    },
    {
      "cell_type": "markdown",
      "source": [
        "# MODULO (%)"
      ],
      "metadata": {
        "id": "X0oLjAFkgqlB"
      }
    },
    {
      "cell_type": "code",
      "source": [
        "print(80%8)"
      ],
      "metadata": {
        "colab": {
          "base_uri": "https://localhost:8080/"
        },
        "id": "AR-leiK4gzIl",
        "outputId": "b556a152-4f60-462c-ac29-324a3d88e111"
      },
      "execution_count": 16,
      "outputs": [
        {
          "output_type": "stream",
          "name": "stdout",
          "text": [
            "0\n"
          ]
        }
      ]
    },
    {
      "cell_type": "code",
      "source": [
        "print(75%5)"
      ],
      "metadata": {
        "colab": {
          "base_uri": "https://localhost:8080/"
        },
        "id": "Nv0f47ykg3Y7",
        "outputId": "de132f7c-f958-4d7c-9731-4f944a052340"
      },
      "execution_count": 17,
      "outputs": [
        {
          "output_type": "stream",
          "name": "stdout",
          "text": [
            "0\n"
          ]
        }
      ]
    },
    {
      "cell_type": "code",
      "source": [
        "print(22%8)"
      ],
      "metadata": {
        "colab": {
          "base_uri": "https://localhost:8080/"
        },
        "id": "V42JO-LOg7Pv",
        "outputId": "5d20fcd0-66b0-41d9-e5fa-09a6ea68a153"
      },
      "execution_count": 18,
      "outputs": [
        {
          "output_type": "stream",
          "name": "stdout",
          "text": [
            "6\n"
          ]
        }
      ]
    },
    {
      "cell_type": "code",
      "source": [],
      "metadata": {
        "id": "ptfN8VvhhPBf"
      },
      "execution_count": null,
      "outputs": []
    }
  ]
}