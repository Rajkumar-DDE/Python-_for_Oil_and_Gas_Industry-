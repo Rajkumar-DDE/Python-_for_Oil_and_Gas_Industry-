{
  "nbformat": 4,
  "nbformat_minor": 0,
  "metadata": {
    "colab": {
      "provenance": [],
      "authorship_tag": "ABX9TyPxz/d/4pRNCPc4WjwarKSl",
      "include_colab_link": true
    },
    "kernelspec": {
      "name": "python3",
      "display_name": "Python 3"
    },
    "language_info": {
      "name": "python"
    }
  },
  "cells": [
    {
      "cell_type": "markdown",
      "metadata": {
        "id": "view-in-github",
        "colab_type": "text"
      },
      "source": [
        "<a href=\"https://colab.research.google.com/github/Rajkumar-DDE/Python-_for_Oil_and_Gas_Industry-/blob/main/Python_for_Oil_%26_Gas_Industry__Day_3___Print_function__Escape_Sequences_%26_Raw_strings.ipynb\" target=\"_parent\"><img src=\"https://colab.research.google.com/assets/colab-badge.svg\" alt=\"Open In Colab\"/></a>"
      ]
    },
    {
      "cell_type": "markdown",
      "source": [
        "# We can used '' Drilling\"\" and We can also used \"\"Drilling ''"
      ],
      "metadata": {
        "id": "T3c_zBzQ_PWZ"
      }
    },
    {
      "cell_type": "code",
      "source": [
        "print(\"helo 'petroleum engineer' \")"
      ],
      "metadata": {
        "colab": {
          "base_uri": "https://localhost:8080/"
        },
        "id": "_PByflPq_tg6",
        "outputId": "16c391ef-a91f-4cdb-ffa9-2fca265dd9e2"
      },
      "execution_count": 4,
      "outputs": [
        {
          "output_type": "stream",
          "name": "stdout",
          "text": [
            "helo 'petroleum engineer' \n"
          ]
        }
      ]
    },
    {
      "cell_type": "code",
      "source": [
        "print('helo \"petroleum engineer\"')"
      ],
      "metadata": {
        "colab": {
          "base_uri": "https://localhost:8080/"
        },
        "id": "1hBrzwuJAA7-",
        "outputId": "61144e85-60c5-4ad6-b89c-4e8facac7264"
      },
      "execution_count": 5,
      "outputs": [
        {
          "output_type": "stream",
          "name": "stdout",
          "text": [
            "helo \"petroleum engineer\"\n"
          ]
        }
      ]
    },
    {
      "cell_type": "markdown",
      "source": [
        "# But you cannot used \"\"Drilling\"\" &  You cannot used '' Drilling ''"
      ],
      "metadata": {
        "id": "CfjzFMDXAyMb"
      }
    },
    {
      "cell_type": "code",
      "source": [
        "print(\"helo \"petroleum engineer\"\")"
      ],
      "metadata": {
        "colab": {
          "base_uri": "https://localhost:8080/",
          "height": 106
        },
        "id": "HMi7mMyXBIQB",
        "outputId": "462499fc-ed5e-488a-ec11-21992165c33c"
      },
      "execution_count": 6,
      "outputs": [
        {
          "output_type": "error",
          "ename": "SyntaxError",
          "evalue": "invalid syntax. Perhaps you forgot a comma? (ipython-input-3133408480.py, line 1)",
          "traceback": [
            "\u001b[0;36m  File \u001b[0;32m\"/tmp/ipython-input-3133408480.py\"\u001b[0;36m, line \u001b[0;32m1\u001b[0m\n\u001b[0;31m    print(\"helo \"petroleum engineer\"\")\u001b[0m\n\u001b[0m          ^\u001b[0m\n\u001b[0;31mSyntaxError\u001b[0m\u001b[0;31m:\u001b[0m invalid syntax. Perhaps you forgot a comma?\n"
          ]
        }
      ]
    },
    {
      "cell_type": "code",
      "source": [
        "print (' helo 'petroleum engineer'')"
      ],
      "metadata": {
        "colab": {
          "base_uri": "https://localhost:8080/",
          "height": 106
        },
        "id": "swSFuhjeBSs0",
        "outputId": "dbea698d-9d3d-498f-fe62-817b4c3d92bd"
      },
      "execution_count": 7,
      "outputs": [
        {
          "output_type": "error",
          "ename": "SyntaxError",
          "evalue": "invalid syntax. Perhaps you forgot a comma? (ipython-input-388517864.py, line 1)",
          "traceback": [
            "\u001b[0;36m  File \u001b[0;32m\"/tmp/ipython-input-388517864.py\"\u001b[0;36m, line \u001b[0;32m1\u001b[0m\n\u001b[0;31m    print (' helo 'petroleum engineer'')\u001b[0m\n\u001b[0m           ^\u001b[0m\n\u001b[0;31mSyntaxError\u001b[0m\u001b[0;31m:\u001b[0m invalid syntax. Perhaps you forgot a comma?\n"
          ]
        }
      ]
    },
    {
      "cell_type": "markdown",
      "source": [
        "# For Example **using this print function like print('i'm Rajkumar')**"
      ],
      "metadata": {
        "id": "jCcy9WuyCZbJ"
      }
    },
    {
      "cell_type": "code",
      "source": [
        "print(' I'm Rajkumar')"
      ],
      "metadata": {
        "colab": {
          "base_uri": "https://localhost:8080/",
          "height": 106
        },
        "id": "LTuJgFIsCs9_",
        "outputId": "ed3aa225-9cad-4f57-8020-c894c72ffb78"
      },
      "execution_count": 9,
      "outputs": [
        {
          "output_type": "error",
          "ename": "SyntaxError",
          "evalue": "unterminated string literal (detected at line 1) (ipython-input-1671923967.py, line 1)",
          "traceback": [
            "\u001b[0;36m  File \u001b[0;32m\"/tmp/ipython-input-1671923967.py\"\u001b[0;36m, line \u001b[0;32m1\u001b[0m\n\u001b[0;31m    print(' I'm Rajkumar')\u001b[0m\n\u001b[0m                        ^\u001b[0m\n\u001b[0;31mSyntaxError\u001b[0m\u001b[0;31m:\u001b[0m unterminated string literal (detected at line 1)\n"
          ]
        }
      ]
    },
    {
      "cell_type": "code",
      "source": [
        "print (\" I'm Rajkumar\")"
      ],
      "metadata": {
        "colab": {
          "base_uri": "https://localhost:8080/"
        },
        "id": "4ydgRc3jC2Z7",
        "outputId": "50d6c42b-2f1e-42f8-da79-325d43048f67"
      },
      "execution_count": 10,
      "outputs": [
        {
          "output_type": "stream",
          "name": "stdout",
          "text": [
            " I'm Rajkumar\n"
          ]
        }
      ]
    },
    {
      "cell_type": "markdown",
      "source": [
        "#ESCAPE SEQUENCE\n",
        "\n",
        "1.   \\' =====> Single Quote\n",
        "2.   \\\" =====> Double Quote\n",
        "3.   \\\\ =====> Backsiash\n",
        "4.   \\n =====> New line\n",
        "5.   \\t =====> Tab\n",
        "6.   \\b =====> Backspace\n",
        "\n",
        "\n"
      ],
      "metadata": {
        "id": "kxjuSOblG16C"
      }
    },
    {
      "cell_type": "markdown",
      "source": [
        "# New Section"
      ],
      "metadata": {
        "id": "N4DJ1oyuIH0H"
      }
    },
    {
      "cell_type": "markdown",
      "source": [
        "#  \\' =====> Single Quote"
      ],
      "metadata": {
        "id": "Wyh6mufcIL1c"
      }
    },
    {
      "cell_type": "code",
      "source": [
        "print(' I\\'m Rajkumar')"
      ],
      "metadata": {
        "colab": {
          "base_uri": "https://localhost:8080/"
        },
        "id": "-zuPiMt4H5n2",
        "outputId": "08733168-0c4a-4d7e-cc16-eddb7570c63c"
      },
      "execution_count": 11,
      "outputs": [
        {
          "output_type": "stream",
          "name": "stdout",
          "text": [
            " I'm Rajkumar\n"
          ]
        }
      ]
    },
    {
      "cell_type": "markdown",
      "source": [
        "# \\\" =====> Double Quote"
      ],
      "metadata": {
        "id": "Hv37wKTsIXU7"
      }
    },
    {
      "cell_type": "code",
      "source": [
        "print(\"helo \\\"petroleum engineer\\\"\")"
      ],
      "metadata": {
        "colab": {
          "base_uri": "https://localhost:8080/"
        },
        "id": "1c345N94IGDt",
        "outputId": "0c09bef6-4540-47d2-ecec-2f2292cc8a76"
      },
      "execution_count": 17,
      "outputs": [
        {
          "output_type": "stream",
          "name": "stdout",
          "text": [
            "helo \"petroleum engineer\"\n"
          ]
        }
      ]
    },
    {
      "cell_type": "markdown",
      "source": [
        "# New Line Escape Sequence (\\n)"
      ],
      "metadata": {
        "id": "QdM-40yRJ7bH"
      }
    },
    {
      "cell_type": "code",
      "source": [
        "# Suppos we want print Line 1 and line 2 same function not separate lines"
      ],
      "metadata": {
        "id": "R2eMfe1wIh5a"
      },
      "execution_count": null,
      "outputs": []
    },
    {
      "cell_type": "code",
      "source": [
        "print('Line 1')\n",
        "print('Line 2')"
      ],
      "metadata": {
        "colab": {
          "base_uri": "https://localhost:8080/"
        },
        "id": "j3UmH3iIKY7p",
        "outputId": "d7a5e4bc-d4d8-473a-e4fb-928f13493864"
      },
      "execution_count": 19,
      "outputs": [
        {
          "output_type": "stream",
          "name": "stdout",
          "text": [
            "Line 1\n",
            "Line 2\n"
          ]
        }
      ]
    },
    {
      "cell_type": "code",
      "source": [
        "print(\"Line 1\\nLine 2\")"
      ],
      "metadata": {
        "colab": {
          "base_uri": "https://localhost:8080/"
        },
        "id": "NkdH3tt2KfcE",
        "outputId": "13f2c6f1-2590-4a79-9335-357ccd4ff9fa"
      },
      "execution_count": 20,
      "outputs": [
        {
          "output_type": "stream",
          "name": "stdout",
          "text": [
            "Line 1\n",
            "Line 2\n"
          ]
        }
      ]
    },
    {
      "cell_type": "markdown",
      "source": [
        "# New Tab Escape Sequence (\\t)"
      ],
      "metadata": {
        "id": "vTNNVPYaK2jT"
      }
    },
    {
      "cell_type": "code",
      "source": [
        "print(\"Name:RAjkumar\")\n",
        "print('Age:25')"
      ],
      "metadata": {
        "colab": {
          "base_uri": "https://localhost:8080/"
        },
        "id": "J8AUSP05Kqs7",
        "outputId": "25e28338-b07a-481f-8078-54ec223b7384"
      },
      "execution_count": 21,
      "outputs": [
        {
          "output_type": "stream",
          "name": "stdout",
          "text": [
            "Name:RAjkumar\n",
            "Age:25\n"
          ]
        }
      ]
    },
    {
      "cell_type": "code",
      "source": [
        "print(\"Name:\\tRAjkumar\")\n",
        "print('Age:\\t25')"
      ],
      "metadata": {
        "colab": {
          "base_uri": "https://localhost:8080/"
        },
        "id": "FnuOn6ttMCVC",
        "outputId": "4365e192-1239-46e8-c174-0e5c98604e2d"
      },
      "execution_count": 22,
      "outputs": [
        {
          "output_type": "stream",
          "name": "stdout",
          "text": [
            "Name:\tRAjkumar\n",
            "Age:\t25\n"
          ]
        }
      ]
    },
    {
      "cell_type": "markdown",
      "source": [
        "# New Backspace Escape Sequence (\\b)"
      ],
      "metadata": {
        "id": "l_2CVFICLPJG"
      }
    },
    {
      "cell_type": "code",
      "source": [
        "print(\"Name:RAjkumarr\")"
      ],
      "metadata": {
        "colab": {
          "base_uri": "https://localhost:8080/"
        },
        "id": "1yljwbb2LYdb",
        "outputId": "0ff80738-a1c4-4c16-a2cf-314b54dfeb32"
      },
      "execution_count": 23,
      "outputs": [
        {
          "output_type": "stream",
          "name": "stdout",
          "text": [
            "Name:RAjkumarr\n"
          ]
        }
      ]
    },
    {
      "cell_type": "code",
      "source": [
        "print(\"Name:RAjkumar\\br\")"
      ],
      "metadata": {
        "colab": {
          "base_uri": "https://localhost:8080/"
        },
        "id": "YEowmmZGMXO7",
        "outputId": "df4a1459-6dec-4284-ea2a-e21975fe0776"
      },
      "execution_count": 24,
      "outputs": [
        {
          "output_type": "stream",
          "name": "stdout",
          "text": [
            "Name:RAjkumar\br\n"
          ]
        }
      ]
    },
    {
      "cell_type": "code",
      "source": [
        "print(\"Name:\\tRAjkumar\\br\")"
      ],
      "metadata": {
        "colab": {
          "base_uri": "https://localhost:8080/"
        },
        "id": "sy2cppfbMa0a",
        "outputId": "44d0ed97-f4fb-410a-b843-57fd8faa87d6"
      },
      "execution_count": 26,
      "outputs": [
        {
          "output_type": "stream",
          "name": "stdout",
          "text": [
            "Name:\tRAjkumar\br\n"
          ]
        }
      ]
    },
    {
      "cell_type": "markdown",
      "source": [
        "**Double Backslash**"
      ],
      "metadata": {
        "id": "LAEbRt-iM0IF"
      }
    },
    {
      "cell_type": "code",
      "source": [
        "print('\\\\')"
      ],
      "metadata": {
        "colab": {
          "base_uri": "https://localhost:8080/"
        },
        "id": "ajmfmaGMMfA9",
        "outputId": "6b232663-4897-4a97-a5a2-945c61f841bf"
      },
      "execution_count": 27,
      "outputs": [
        {
          "output_type": "stream",
          "name": "stdout",
          "text": [
            "\\\n"
          ]
        }
      ]
    },
    {
      "cell_type": "code",
      "source": [
        "print(\"\\\\\\\\\\\\\\\\\")"
      ],
      "metadata": {
        "colab": {
          "base_uri": "https://localhost:8080/"
        },
        "id": "r_GR-K7yM93Q",
        "outputId": "3e793255-0033-446f-c371-0993eaeeda64"
      },
      "execution_count": 30,
      "outputs": [
        {
          "output_type": "stream",
          "name": "stdout",
          "text": [
            "\\\\\\\\\n"
          ]
        }
      ]
    },
    {
      "cell_type": "markdown",
      "source": [
        "# Treating Escape Sequences as a normal Text"
      ],
      "metadata": {
        "id": "O6Gek_ZJNJtB"
      }
    },
    {
      "cell_type": "code",
      "source": [
        "# I want output Line 1 \\n Line 2"
      ],
      "metadata": {
        "id": "K2KfokSaNBHb"
      },
      "execution_count": 31,
      "outputs": []
    },
    {
      "cell_type": "code",
      "source": [
        "print(\"Line 1 \\n Line 2\")"
      ],
      "metadata": {
        "colab": {
          "base_uri": "https://localhost:8080/"
        },
        "id": "oeDYFXFzPhLi",
        "outputId": "5d1b9406-9d26-4e1c-f4c2-9b59d5b7cfbf"
      },
      "execution_count": 32,
      "outputs": [
        {
          "output_type": "stream",
          "name": "stdout",
          "text": [
            "Line 1 \n",
            " Line 2\n"
          ]
        }
      ]
    },
    {
      "cell_type": "code",
      "source": [
        "print(\"Line 1 \\\\n Line 2\")"
      ],
      "metadata": {
        "colab": {
          "base_uri": "https://localhost:8080/"
        },
        "id": "GsOlxnlpPl2l",
        "outputId": "442809b0-f8b1-4144-a023-a9f943715c81"
      },
      "execution_count": 33,
      "outputs": [
        {
          "output_type": "stream",
          "name": "stdout",
          "text": [
            "Line 1 \\n Line 2\n"
          ]
        }
      ]
    },
    {
      "cell_type": "code",
      "source": [
        "#I want output '\\\"\\''"
      ],
      "metadata": {
        "id": "i2mWEFjFPo8u"
      },
      "execution_count": 34,
      "outputs": []
    },
    {
      "cell_type": "code",
      "source": [
        "Print('\\\"\\'')"
      ],
      "metadata": {
        "colab": {
          "base_uri": "https://localhost:8080/",
          "height": 141
        },
        "id": "DQpEaxdQQD4Z",
        "outputId": "9784282f-146d-496c-88e4-7ce8ca0a1365"
      },
      "execution_count": 36,
      "outputs": [
        {
          "output_type": "error",
          "ename": "NameError",
          "evalue": "name 'Print' is not defined",
          "traceback": [
            "\u001b[0;31m---------------------------------------------------------------------------\u001b[0m",
            "\u001b[0;31mNameError\u001b[0m                                 Traceback (most recent call last)",
            "\u001b[0;32m/tmp/ipython-input-3444486924.py\u001b[0m in \u001b[0;36m<cell line: 0>\u001b[0;34m()\u001b[0m\n\u001b[0;32m----> 1\u001b[0;31m \u001b[0mPrint\u001b[0m\u001b[0;34m(\u001b[0m\u001b[0;34m'\\\"\\''\u001b[0m\u001b[0;34m)\u001b[0m\u001b[0;34m\u001b[0m\u001b[0;34m\u001b[0m\u001b[0m\n\u001b[0m",
            "\u001b[0;31mNameError\u001b[0m: name 'Print' is not defined"
          ]
        }
      ]
    },
    {
      "cell_type": "code",
      "source": [
        "print('\\\\\"\\\\'')"
      ],
      "metadata": {
        "colab": {
          "base_uri": "https://localhost:8080/",
          "height": 106
        },
        "id": "Ph7fr1YnQK3B",
        "outputId": "b32b7b8e-36bc-4642-f73f-17411854a20a"
      },
      "execution_count": 43,
      "outputs": [
        {
          "output_type": "error",
          "ename": "SyntaxError",
          "evalue": "unterminated string literal (detected at line 1) (ipython-input-1603594.py, line 1)",
          "traceback": [
            "\u001b[0;36m  File \u001b[0;32m\"/tmp/ipython-input-1603594.py\"\u001b[0;36m, line \u001b[0;32m1\u001b[0m\n\u001b[0;31m    print('\\\\\"\\\\'')\u001b[0m\n\u001b[0m                 ^\u001b[0m\n\u001b[0;31mSyntaxError\u001b[0m\u001b[0;31m:\u001b[0m unterminated string literal (detected at line 1)\n"
          ]
        }
      ]
    },
    {
      "cell_type": "code",
      "source": [
        "print('\\\\\\\" \\\\\\' ')"
      ],
      "metadata": {
        "colab": {
          "base_uri": "https://localhost:8080/"
        },
        "id": "_L0H7LsDQevy",
        "outputId": "8dfedd29-498b-4204-b32e-a31f98577006"
      },
      "execution_count": 45,
      "outputs": [
        {
          "output_type": "stream",
          "name": "stdout",
          "text": [
            "\\\" \\' \n"
          ]
        }
      ]
    },
    {
      "cell_type": "markdown",
      "source": [
        "# Assignment 1\n"
      ],
      "metadata": {
        "id": "1ovo_g-5Riiz"
      }
    },
    {
      "cell_type": "code",
      "source": [
        "# My name is 'Rajkumar'\n",
        "# I am 25 years old\n",
        "# I love the color \"Blue\"\n",
        "\n",
        "#Generate this output using a single line code"
      ],
      "metadata": {
        "id": "9iMOXIqNQlAx"
      },
      "execution_count": 46,
      "outputs": []
    },
    {
      "cell_type": "code",
      "source": [
        "print(\"My name is 'Rajkumar',I am 25 years old, I love the color \\\"Blue\\\"\")"
      ],
      "metadata": {
        "colab": {
          "base_uri": "https://localhost:8080/"
        },
        "id": "3_VNQ36jSNs5",
        "outputId": "719dc51e-5cb0-4fe4-fdc4-5a4683f27fd9"
      },
      "execution_count": 58,
      "outputs": [
        {
          "output_type": "stream",
          "name": "stdout",
          "text": [
            "My name is 'Rajkumar',I am 25 years old, I love the color \"Blue\"\n"
          ]
        }
      ]
    },
    {
      "cell_type": "code",
      "source": [],
      "metadata": {
        "id": "RKuAAjohSpam"
      },
      "execution_count": null,
      "outputs": []
    }
  ]
}